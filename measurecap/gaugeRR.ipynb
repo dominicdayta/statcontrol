{
 "cells": [
  {
   "cell_type": "markdown",
   "id": "3651d010",
   "metadata": {},
   "source": [
    "# Gauge R&R Experiments in R"
   ]
  },
  {
   "cell_type": "markdown",
   "id": "306ef060",
   "metadata": {},
   "source": [
    "First input data for the thermal impedance data from Montgomery:"
   ]
  },
  {
   "cell_type": "code",
   "execution_count": 47,
   "id": "4657f4fe",
   "metadata": {},
   "outputs": [
    {
     "data": {
      "text/html": [
       "<table>\n",
       "<tbody>\n",
       "\t<tr><td>37</td><td>38</td><td>37</td><td>41</td><td>41</td><td>40</td><td>41</td><td>42</td><td>41</td></tr>\n",
       "\t<tr><td>42</td><td>41</td><td>43</td><td>42</td><td>42</td><td>42</td><td>43</td><td>42</td><td>43</td></tr>\n",
       "\t<tr><td>30</td><td>31</td><td>31</td><td>31</td><td>31</td><td>31</td><td>29</td><td>30</td><td>28</td></tr>\n",
       "\t<tr><td>42</td><td>43</td><td>42</td><td>43</td><td>43</td><td>43</td><td>42</td><td>42</td><td>42</td></tr>\n",
       "\t<tr><td>28</td><td>30</td><td>29</td><td>29</td><td>30</td><td>29</td><td>31</td><td>29</td><td>29</td></tr>\n",
       "\t<tr><td>42</td><td>42</td><td>43</td><td>45</td><td>45</td><td>45</td><td>44</td><td>46</td><td>45</td></tr>\n",
       "\t<tr><td>25</td><td>26</td><td>27</td><td>28</td><td>28</td><td>30</td><td>29</td><td>27</td><td>27</td></tr>\n",
       "\t<tr><td>40</td><td>40</td><td>40</td><td>43</td><td>42</td><td>42</td><td>43</td><td>43</td><td>41</td></tr>\n",
       "\t<tr><td>25</td><td>25</td><td>25</td><td>27</td><td>29</td><td>28</td><td>26</td><td>26</td><td>26</td></tr>\n",
       "\t<tr><td>35</td><td>34</td><td>34</td><td>35</td><td>35</td><td>34</td><td>35</td><td>34</td><td>35</td></tr>\n",
       "</tbody>\n",
       "</table>\n"
      ],
      "text/latex": [
       "\\begin{tabular}{lllllllll}\n",
       "\t 37 & 38 & 37 & 41 & 41 & 40 & 41 & 42 & 41\\\\\n",
       "\t 42 & 41 & 43 & 42 & 42 & 42 & 43 & 42 & 43\\\\\n",
       "\t 30 & 31 & 31 & 31 & 31 & 31 & 29 & 30 & 28\\\\\n",
       "\t 42 & 43 & 42 & 43 & 43 & 43 & 42 & 42 & 42\\\\\n",
       "\t 28 & 30 & 29 & 29 & 30 & 29 & 31 & 29 & 29\\\\\n",
       "\t 42 & 42 & 43 & 45 & 45 & 45 & 44 & 46 & 45\\\\\n",
       "\t 25 & 26 & 27 & 28 & 28 & 30 & 29 & 27 & 27\\\\\n",
       "\t 40 & 40 & 40 & 43 & 42 & 42 & 43 & 43 & 41\\\\\n",
       "\t 25 & 25 & 25 & 27 & 29 & 28 & 26 & 26 & 26\\\\\n",
       "\t 35 & 34 & 34 & 35 & 35 & 34 & 35 & 34 & 35\\\\\n",
       "\\end{tabular}\n"
      ],
      "text/markdown": [
       "\n",
       "| 37 | 38 | 37 | 41 | 41 | 40 | 41 | 42 | 41 |\n",
       "| 42 | 41 | 43 | 42 | 42 | 42 | 43 | 42 | 43 |\n",
       "| 30 | 31 | 31 | 31 | 31 | 31 | 29 | 30 | 28 |\n",
       "| 42 | 43 | 42 | 43 | 43 | 43 | 42 | 42 | 42 |\n",
       "| 28 | 30 | 29 | 29 | 30 | 29 | 31 | 29 | 29 |\n",
       "| 42 | 42 | 43 | 45 | 45 | 45 | 44 | 46 | 45 |\n",
       "| 25 | 26 | 27 | 28 | 28 | 30 | 29 | 27 | 27 |\n",
       "| 40 | 40 | 40 | 43 | 42 | 42 | 43 | 43 | 41 |\n",
       "| 25 | 25 | 25 | 27 | 29 | 28 | 26 | 26 | 26 |\n",
       "| 35 | 34 | 34 | 35 | 35 | 34 | 35 | 34 | 35 |\n",
       "\n"
      ],
      "text/plain": [
       "      [,1] [,2] [,3] [,4] [,5] [,6] [,7] [,8] [,9]\n",
       " [1,] 37   38   37   41   41   40   41   42   41  \n",
       " [2,] 42   41   43   42   42   42   43   42   43  \n",
       " [3,] 30   31   31   31   31   31   29   30   28  \n",
       " [4,] 42   43   42   43   43   43   42   42   42  \n",
       " [5,] 28   30   29   29   30   29   31   29   29  \n",
       " [6,] 42   42   43   45   45   45   44   46   45  \n",
       " [7,] 25   26   27   28   28   30   29   27   27  \n",
       " [8,] 40   40   40   43   42   42   43   43   41  \n",
       " [9,] 25   25   25   27   29   28   26   26   26  \n",
       "[10,] 35   34   34   35   35   34   35   34   35  "
      ]
     },
     "metadata": {},
     "output_type": "display_data"
    }
   ],
   "source": [
    "# thermal impedance data from montgomery\n",
    "data.wide <- matrix(c(\n",
    "    37, 38, 37, 41, 41, 40, 41, 42, 41,\n",
    "    42, 41, 43, 42, 42, 42, 43, 42, 43,\n",
    "    30, 31, 31, 31, 31, 31, 29, 30, 28,\n",
    "    42, 43, 42, 43, 43, 43, 42, 42, 42,\n",
    "    28, 30, 29, 29, 30, 29, 31, 29, 29,\n",
    "    42, 42, 43, 45, 45, 45, 44, 46, 45,\n",
    "    25, 26, 27, 28, 28, 30, 29, 27, 27,\n",
    "    40, 40, 40, 43, 42, 42, 43, 43, 41,\n",
    "    25, 25, 25, 27, 29, 28, 26, 26, 26,\n",
    "    35, 34, 34, 35, 35, 34, 35, 34, 35), nrow = 10, ncol = 9, byrow = TRUE)\n",
    "\n",
    "data.wide"
   ]
  },
  {
   "cell_type": "markdown",
   "id": "1d1d1456",
   "metadata": {},
   "source": [
    "The data is presented in the textbook in wide format. We reformat using the `reshape()` function."
   ]
  },
  {
   "cell_type": "code",
   "execution_count": 48,
   "id": "eca5c5c0",
   "metadata": {},
   "outputs": [
    {
     "data": {
      "text/html": [
       "<table>\n",
       "<thead><tr><th scope=col>part</th><th scope=col>inspector</th><th scope=col>test</th><th scope=col>impedance</th><th scope=col>id</th></tr></thead>\n",
       "<tbody>\n",
       "\t<tr><td> 1</td><td>1 </td><td>1 </td><td>37</td><td> 1</td></tr>\n",
       "\t<tr><td> 2</td><td>1 </td><td>1 </td><td>42</td><td> 2</td></tr>\n",
       "\t<tr><td> 3</td><td>1 </td><td>1 </td><td>30</td><td> 3</td></tr>\n",
       "\t<tr><td> 4</td><td>1 </td><td>1 </td><td>42</td><td> 4</td></tr>\n",
       "\t<tr><td> 5</td><td>1 </td><td>1 </td><td>28</td><td> 5</td></tr>\n",
       "\t<tr><td> 6</td><td>1 </td><td>1 </td><td>42</td><td> 6</td></tr>\n",
       "\t<tr><td> 7</td><td>1 </td><td>1 </td><td>25</td><td> 7</td></tr>\n",
       "\t<tr><td> 8</td><td>1 </td><td>1 </td><td>40</td><td> 8</td></tr>\n",
       "\t<tr><td> 9</td><td>1 </td><td>1 </td><td>25</td><td> 9</td></tr>\n",
       "\t<tr><td>10</td><td>1 </td><td>1 </td><td>35</td><td>10</td></tr>\n",
       "</tbody>\n",
       "</table>\n"
      ],
      "text/latex": [
       "\\begin{tabular}{r|lllll}\n",
       " part & inspector & test & impedance & id\\\\\n",
       "\\hline\n",
       "\t  1 & 1  & 1  & 37 &  1\\\\\n",
       "\t  2 & 1  & 1  & 42 &  2\\\\\n",
       "\t  3 & 1  & 1  & 30 &  3\\\\\n",
       "\t  4 & 1  & 1  & 42 &  4\\\\\n",
       "\t  5 & 1  & 1  & 28 &  5\\\\\n",
       "\t  6 & 1  & 1  & 42 &  6\\\\\n",
       "\t  7 & 1  & 1  & 25 &  7\\\\\n",
       "\t  8 & 1  & 1  & 40 &  8\\\\\n",
       "\t  9 & 1  & 1  & 25 &  9\\\\\n",
       "\t 10 & 1  & 1  & 35 & 10\\\\\n",
       "\\end{tabular}\n"
      ],
      "text/markdown": [
       "\n",
       "| part | inspector | test | impedance | id |\n",
       "|---|---|---|---|---|\n",
       "|  1 | 1  | 1  | 37 |  1 |\n",
       "|  2 | 1  | 1  | 42 |  2 |\n",
       "|  3 | 1  | 1  | 30 |  3 |\n",
       "|  4 | 1  | 1  | 42 |  4 |\n",
       "|  5 | 1  | 1  | 28 |  5 |\n",
       "|  6 | 1  | 1  | 42 |  6 |\n",
       "|  7 | 1  | 1  | 25 |  7 |\n",
       "|  8 | 1  | 1  | 40 |  8 |\n",
       "|  9 | 1  | 1  | 25 |  9 |\n",
       "| 10 | 1  | 1  | 35 | 10 |\n",
       "\n"
      ],
      "text/plain": [
       "   part inspector test impedance id\n",
       "1   1   1         1    37         1\n",
       "2   2   1         1    42         2\n",
       "3   3   1         1    30         3\n",
       "4   4   1         1    42         4\n",
       "5   5   1         1    28         5\n",
       "6   6   1         1    42         6\n",
       "7   7   1         1    25         7\n",
       "8   8   1         1    40         8\n",
       "9   9   1         1    25         9\n",
       "10 10   1         1    35        10"
      ]
     },
     "metadata": {},
     "output_type": "display_data"
    }
   ],
   "source": [
    "data.wide.1 <- data.frame(part = 1:10, inspector = \"1\", data.wide[,1:3])\n",
    "data.wide.2 <- data.frame(part = 1:10, inspector = \"2\", data.wide[,4:6])\n",
    "data.wide.3 <- data.frame(part = 1:10, inspector = \"3\", data.wide[,7:9])\n",
    "\n",
    "data.wide.4 <- rbind(data.wide.1,data.wide.2,data.wide.3)\n",
    "colnames(data.wide.4)[3:5] <- c(\"test1\",\"test2\",\"test3\")\n",
    "\n",
    "data.long <- reshape(data.wide.4, \n",
    "        direction = \"long\",\n",
    "        varying = list(names(data.wide.4)[3:5]),\n",
    "        v.names = \"impedance\",\n",
    "        timevar = \"test\",\n",
    "        times = 1:3)\n",
    "\n",
    "rownames(data.long) <- NULL\n",
    "\n",
    "head(data.long, 10)"
   ]
  },
  {
   "cell_type": "markdown",
   "id": "f62a23ae",
   "metadata": {},
   "source": [
    "First we demonstrate how this can be done using a simple ANOVA with the `aov` function in `R`."
   ]
  },
  {
   "cell_type": "code",
   "execution_count": 49,
   "id": "ead6f7fa",
   "metadata": {},
   "outputs": [
    {
     "data": {
      "text/plain": [
       "                               Df Sum Sq Mean Sq F value   Pr(>F)    \n",
       "factor(inspector)               2     39    19.6  38.413 1.82e-11 ***\n",
       "factor(part)                    9   3936   437.3 855.643  < 2e-16 ***\n",
       "factor(inspector):factor(part) 18     49     2.7   5.273 5.06e-07 ***\n",
       "Residuals                      60     31     0.5                     \n",
       "---\n",
       "Signif. codes:  0 ‘***’ 0.001 ‘**’ 0.01 ‘*’ 0.05 ‘.’ 0.1 ‘ ’ 1"
      ]
     },
     "metadata": {},
     "output_type": "display_data"
    }
   ],
   "source": [
    "process.aov <- aov(impedance ~ factor(inspector) + factor(part) + factor(inspector) * factor(part),\n",
    "                  data = data.long)\n",
    "\n",
    "summary.aov(process.aov)"
   ]
  },
  {
   "cell_type": "markdown",
   "id": "d7e951b1",
   "metadata": {},
   "source": [
    "Estimating the variance components are easier done using the `VCAinference` function in the `VCA` package in `R`."
   ]
  },
  {
   "cell_type": "code",
   "execution_count": 50,
   "id": "a76b2427",
   "metadata": {},
   "outputs": [
    {
     "data": {
      "text/plain": [
       "\n",
       "\n",
       "\n",
       "Inference from (V)ariance (C)omponent (A)nalysis\n",
       "------------------------------------------------\n",
       "\n",
       "> VCA Result:\n",
       "-------------\n",
       "\n",
       "  Name           DF     SS        MS       VC      %Total  SD     CV[%]  \n",
       "1 total          9.5575                    50.0963 100     7.0779 19.7706\n",
       "2 inspector      2      39.2667   19.6333  0.5646  1.127   0.7514 2.0989 \n",
       "3 part           9      3935.9556 437.3284 48.2926 96.3995 6.9493 19.4114\n",
       "4 inspector:part 18     48.5111   2.6951   0.728   1.4532  0.8532 2.3833 \n",
       "5 error          60     30.6667   0.5111   0.5111  1.0203  0.7149 1.997  \n",
       "  Var(VC) \n",
       "1         \n",
       "2 0.4292  \n",
       "3 524.7181\n",
       "4 0.0906  \n",
       "5 0.0087  \n",
       "\n",
       "Mean: 35.8 (N = 90) \n",
       "\n",
       "Experimental Design: balanced  |  Method: ANOVA\n",
       "\n",
       "\n",
       "> VC:\n",
       "-----\n",
       "               Estimate CI LCL  CI UCL   One-Sided LCL One-Sided UCL\n",
       "total          50.0963  24.1327 159.4836 27.0575       130.622      \n",
       "inspector      0.5646   0*      1.8486   0*            1.6422       \n",
       "part           48.2926  3.3962  93.189   10.6144       85.9708      \n",
       "inspector:part 0.728    0.1379  1.3181   0.2328        1.2232       \n",
       "error          0.5111   0.3682  0.7575   0.3878        0.7101       \n",
       "\n",
       "> SD:\n",
       "-----\n",
       "               Estimate CI LCL CI UCL  One-Sided LCL One-Sided UCL\n",
       "total          7.0779   4.9125 12.6287 5.2017        11.429       \n",
       "inspector      0.7514   0*     1.3596  0*            1.2815       \n",
       "part           6.9493   1.8429 9.6534  3.258         9.272        \n",
       "inspector:part 0.8532   0.3714 1.1481  0.4825        1.106        \n",
       "error          0.7149   0.6068 0.8704  0.6227        0.8427       \n",
       "\n",
       "> CV[%]:\n",
       "--------\n",
       "               Estimate CI LCL  CI UCL  One-Sided LCL One-Sided UCL\n",
       "total          19.7706  13.7221 35.2756 14.5298       31.9246      \n",
       "inspector      2.0989   0*      3.7979  0*            3.5796       \n",
       "part           19.4114  5.1477  26.9649 9.1005        25.8996      \n",
       "inspector:part 2.3833   1.0373  3.2069  1.3477        3.0893       \n",
       "error          1.997    1.6949  2.4312  1.7394        2.3538       \n",
       "\n",
       "\n",
       "95% Confidence Level  | * CI-limits constrained to be >= 0\n",
       "SAS PROC MIXED method used for computing CIs \n"
      ]
     },
     "metadata": {},
     "output_type": "display_data"
    }
   ],
   "source": [
    "library(VCA)\n",
    "\n",
    "data.long$inspector <- as.factor(data.long$inspector)\n",
    "data.long$part <- as.factor(data.long$part)\n",
    "\n",
    "process.vca <- fitVCA(impedance ~ inspector + part + inspector * part,\n",
    "                  data.long)\n",
    "\n",
    "VCAinference(process.vca, VarVC=TRUE)"
   ]
  },
  {
   "cell_type": "markdown",
   "id": "afcee2a5",
   "metadata": {},
   "source": [
    "In Montgomery, we know that $\\sigma^2 = 0.5111$ is the repeatability component of the Gauge R&R Study. Meanwhile, $\\sigma^2_{Reproducibility} = \\sigma^2_{O} + \\sigma^2_{PO}$:"
   ]
  },
  {
   "cell_type": "code",
   "execution_count": 56,
   "id": "d60431d7",
   "metadata": {},
   "outputs": [
    {
     "data": {
      "text/html": [
       "1.8036"
      ],
      "text/latex": [
       "1.8036"
      ],
      "text/markdown": [
       "1.8036"
      ],
      "text/plain": [
       "[1] 1.8036"
      ]
     },
     "metadata": {},
     "output_type": "display_data"
    }
   ],
   "source": [
    "sigsq.repeat = 0.511\n",
    "sigsq.reproduce = 0.5646 + 0.728\n",
    "\n",
    "sigsq.gauge = sigsq.repeat + sigsq.reproduce\n",
    "sigsq.gauge"
   ]
  },
  {
   "cell_type": "code",
   "execution_count": 58,
   "id": "7f3affe2",
   "metadata": {},
   "outputs": [
    {
     "data": {
      "text/html": [
       "1.34298175713596"
      ],
      "text/latex": [
       "1.34298175713596"
      ],
      "text/markdown": [
       "1.34298175713596"
      ],
      "text/plain": [
       "[1] 1.342982"
      ]
     },
     "metadata": {},
     "output_type": "display_data"
    }
   ],
   "source": [
    "sqrt(sigsq.gauge)"
   ]
  },
  {
   "cell_type": "markdown",
   "id": "ee2fed67",
   "metadata": {},
   "source": [
    "Supposing that we set LSL = 18 and USL = 58, we can produce the P/T ratio using $\\sigma_{Gauge}$:"
   ]
  },
  {
   "cell_type": "code",
   "execution_count": 61,
   "id": "ef148c14",
   "metadata": {},
   "outputs": [
    {
     "data": {
      "text/html": [
       "0.201447263570394"
      ],
      "text/latex": [
       "0.201447263570394"
      ],
      "text/markdown": [
       "0.201447263570394"
      ],
      "text/plain": [
       "[1] 0.2014473"
      ]
     },
     "metadata": {},
     "output_type": "display_data"
    }
   ],
   "source": [
    "pt = (6*sqrt(sigsq.gauge))/(58 - 18)\n",
    "pt"
   ]
  },
  {
   "cell_type": "markdown",
   "id": "bb6134f1",
   "metadata": {},
   "source": [
    "Recall that we generally prefer PT ratio to not exceed 0.10."
   ]
  },
  {
   "cell_type": "code",
   "execution_count": null,
   "id": "e65b647b",
   "metadata": {},
   "outputs": [],
   "source": []
  }
 ],
 "metadata": {
  "kernelspec": {
   "display_name": "R",
   "language": "R",
   "name": "ir"
  },
  "language_info": {
   "codemirror_mode": "r",
   "file_extension": ".r",
   "mimetype": "text/x-r-source",
   "name": "R",
   "pygments_lexer": "r",
   "version": "3.6.1"
  }
 },
 "nbformat": 4,
 "nbformat_minor": 5
}
